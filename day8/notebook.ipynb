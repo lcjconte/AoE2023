{
 "cells": [
  {
   "cell_type": "code",
   "execution_count": 1,
   "metadata": {},
   "outputs": [],
   "source": [
    "with open(\"./day8/input.txt\") as f:\n",
    "    lines = f.readlines()"
   ]
  },
  {
   "cell_type": "code",
   "execution_count": 31,
   "metadata": {},
   "outputs": [],
   "source": [
    "inst = lines[0].strip()\n",
    "m = len(inst)"
   ]
  },
  {
   "cell_type": "code",
   "execution_count": 5,
   "metadata": {},
   "outputs": [],
   "source": [
    "mp = {}\n",
    "for i in lines[2:]:\n",
    "    mp[i[:3]] = [i[7:7+3], i[12:12+3]]"
   ]
  },
  {
   "cell_type": "code",
   "execution_count": 8,
   "metadata": {},
   "outputs": [],
   "source": [
    "starts = [i for i in mp.keys() if i[-1] == \"A\"]\n",
    "ends = [i for i in mp.keys() if i[-1] == \"Z\"]"
   ]
  },
  {
   "cell_type": "code",
   "execution_count": 25,
   "metadata": {},
   "outputs": [],
   "source": [
    "def find_hits(node):\n",
    "    cn = (node, 0)\n",
    "    hits = set()\n",
    "    ls = [cn]\n",
    "    while True:\n",
    "        nn = (mp[cn[0]][0 if inst[cn[1] % len(inst)] == \"L\" else 1], cn[1]+1)\n",
    "        ls.append(nn)\n",
    "        ad = (nn[0], nn[1]%len(inst))\n",
    "        if ad in hits:\n",
    "            break\n",
    "        hits.add(ad)\n",
    "        cn = nn\n",
    "    return hits, ls"
   ]
  },
  {
   "cell_type": "code",
   "execution_count": 44,
   "metadata": {},
   "outputs": [],
   "source": [
    "def info(node):\n",
    "    ret = find_hits(node)\n",
    "    returned = ret[1][-1]\n",
    "    split_item = [returned[0], returned[1]%m]\n",
    "    split_idx = [[i[0], i[1]%m] for i in ret[1]].index(split_item)\n",
    "    cycle_length = len(ret[1])-1-split_idx\n",
    "    z_pos = [i for i in ret[1] if i[0][-1] == \"Z\"]\n",
    "    return split_idx, cycle_length, z_pos[0][-1]"
   ]
  },
  {
   "cell_type": "code",
   "execution_count": 28,
   "metadata": {},
   "outputs": [
    {
     "name": "stdout",
     "output_type": "stream",
     "text": [
      "19643\n",
      "{('MGZ', 19637)}\n",
      "18026\n",
      "{('ZZZ', 18023)}\n",
      "21256\n",
      "{('TQZ', 21251)}\n",
      "16414\n",
      "{('BKZ', 16409)}\n",
      "11570\n",
      "{('BNZ', 11567)}\n",
      "14266\n",
      "{('SSZ', 14257)}\n"
     ]
    }
   ],
   "source": [
    "for i in starts:\n",
    "    ret = find_hits(i)\n",
    "    hi = set([i for i in ret[1] if i[0][-1] == \"Z\"])\n",
    "    print(len(ret[1]))\n",
    "    print(hi)"
   ]
  },
  {
   "cell_type": "code",
   "execution_count": 45,
   "metadata": {},
   "outputs": [
    {
     "name": "stdout",
     "output_type": "stream",
     "text": [
      "(5, 19637, 19637)\n",
      "(2, 18023, 18023)\n",
      "(4, 21251, 21251)\n",
      "(4, 16409, 16409)\n",
      "(2, 11567, 11567)\n",
      "(8, 14257, 14257)\n"
     ]
    }
   ],
   "source": [
    "for i in starts:\n",
    "    print(info(i))"
   ]
  },
  {
   "cell_type": "code",
   "execution_count": 47,
   "metadata": {},
   "outputs": [
    {
     "data": {
      "text/plain": [
       "[19637, 18023, 21251, 16409, 11567, 14257]"
      ]
     },
     "execution_count": 47,
     "metadata": {},
     "output_type": "execute_result"
    }
   ],
   "source": [
    "[info(i)[2] for i in starts]"
   ]
  },
  {
   "cell_type": "code",
   "execution_count": 48,
   "metadata": {},
   "outputs": [
    {
     "data": {
      "text/plain": [
       "14449445933179"
      ]
     },
     "execution_count": 48,
     "metadata": {},
     "output_type": "execute_result"
    }
   ],
   "source": [
    "from math import lcm\n",
    "lcm(*[info(i)[2] for i in starts])"
   ]
  },
  {
   "cell_type": "code",
   "execution_count": 37,
   "metadata": {},
   "outputs": [
    {
     "data": {
      "text/plain": [
       "(('JXQ', 14265), ['JXQ', 8], 8)"
      ]
     },
     "execution_count": 37,
     "metadata": {},
     "output_type": "execute_result"
    }
   ],
   "source": [
    "info(\"SBA\")"
   ]
  },
  {
   "cell_type": "code",
   "execution_count": 33,
   "metadata": {},
   "outputs": [
    {
     "data": {
      "text/plain": [
       "[('JXQ', 8), ('JXQ', 14265)]"
      ]
     },
     "execution_count": 33,
     "metadata": {},
     "output_type": "execute_result"
    }
   ],
   "source": []
  }
 ],
 "metadata": {
  "kernelspec": {
   "display_name": "ml",
   "language": "python",
   "name": "python3"
  },
  "language_info": {
   "codemirror_mode": {
    "name": "ipython",
    "version": 3
   },
   "file_extension": ".py",
   "mimetype": "text/x-python",
   "name": "python",
   "nbconvert_exporter": "python",
   "pygments_lexer": "ipython3",
   "version": "3.10.12"
  }
 },
 "nbformat": 4,
 "nbformat_minor": 2
}
